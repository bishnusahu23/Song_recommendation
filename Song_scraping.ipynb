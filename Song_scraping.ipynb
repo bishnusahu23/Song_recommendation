{
 "cells": [
  {
   "cell_type": "markdown",
   "id": "24039860-6721-4043-8836-cd7078a07911",
   "metadata": {},
   "source": [
    "# Importing Libraries:"
   ]
  },
  {
   "cell_type": "code",
   "execution_count": null,
   "id": "199251be",
   "metadata": {},
   "outputs": [],
   "source": [
    "!pip install spotipy\n",
    "!pip install langdetect\n",
    "!pip install pandas"
   ]
  },
  {
   "cell_type": "code",
   "execution_count": 1,
   "id": "d4b018c2-b050-4895-8774-9c2eefedd60c",
   "metadata": {},
   "outputs": [],
   "source": [
    "import warnings\n",
    "warnings.simplefilter(action='ignore', category=FutureWarning)\n",
    "\n",
    "# Spotipy library which is a Python client for the Spotify Web API.\n",
    "import spotipy\n",
    "#SpotifyClientCredentials class from Spotipy for authentication.\n",
    "from spotipy.oauth2 import SpotifyClientCredentials\n",
    "# ReadTimeout exception from the requests library to handle timeout errors.\n",
    "from requests.exceptions import ReadTimeout\n",
    "# SpotifyException from Spotipy to handle Spotify-specific errors.\n",
    "from spotipy.exceptions import SpotifyException\n",
    "# time module to use functions like sleep for pausing execution.\n",
    "import time\n",
    "\n",
    "#!pip install langdetect nltk\n",
    "from langdetect import detect, DetectorFactory\n",
    "import pandas as pd"
   ]
  },
  {
   "cell_type": "markdown",
   "id": "d59ec8e8-b397-474f-aa36-a71dc098a964",
   "metadata": {},
   "source": [
    "#### The Below code interacts with the Spotify Web API using the Spotipy library to collect data on tracks from different genres and markets. Here's a breakdown of each step:"
   ]
  },
  {
   "cell_type": "code",
   "execution_count": 2,
   "id": "e0e451b0-32ee-4ee2-b7f4-592f07736e50",
   "metadata": {
    "scrolled": true
   },
   "outputs": [
    {
     "name": "stderr",
     "output_type": "stream",
     "text": [
      "Max Retries reached\n"
     ]
    },
    {
     "name": "stdout",
     "output_type": "stream",
     "text": [
      "Error occurred: http status: 429, code:-1 - /v1/audio-features/?ids=7jIAttgQTpLDoNtykIQXjH,4E6cwWJWZw2zWf7VFbH7wf,1EzrEOXmMH3G43AXT1y7pA,5vjLSffimiIP26QG5WcN2K,3S0OXQeoh0w6AY8WQVckRW,1jyddn36UN4tVsJGtaJfem,53QF56cjZA9RTuuMZDrSA6,24CcvMOaNniXXcxA8HjUw1,6UIxGIqWlO5wsddY44AV1R,6Uy6K3KdmUdAfelUp0SeXn,5htghP7rThIe6oXBN6uYI5,38YgZVHPWOWsKrsCXz6JyP,1fEGtTZjrjJW8eUeewnNJR,1MxHIIzcTeFnaNsDGY3pfj,07m8PuXxxv5J4qPEDq6ZkK,0IktbUcnAGrvD03AWnz3Q8,0RD3NWnHlyBCRwgNZy8QAn,5auMzVHFr5Zfw6IbKarZ56,6WuBXGHGpSqpkFCl7ei8xp,7aohwSiTDju51QmC54AUba,2rs6UMzlu1pMGGVw60tiHm,2qLMf6TuEC3ruGJg4SMMN6,0EKBV6GybPtALXUgWqWrym,7x4b0UccXSKBWxWmjcrG2T,1jHNQodYIGvk187xrISw1i,1umKFpJdXDtquGCz4oBVDJ,2D4BSm5Z8Hq5zYbSgJwEOh,4BU9s6QLGFCaxlgaPWWuFY,4oa14QBfWRDfJy2agySy0L,0oOY4xChdxmGgpyQrY2FBz,0S5MCBH1qTVCsckidwvS8G,0sKAZF2T0hD3SfEr0U0rqX,6lfxq3CG4xtTiEg7opyCyx,2WZyfujzMweFLnozyUJBkW,0OiCqRaoKK6nuSIty8zHjl,7BXW1QCg56yzEBV8pW8pah,2lxBZVbkiCXC1soks2RXwV,7jJH8F3PHlNvxfqEAAfFDl,0R7EWhquaAICmyE5MZqt3q,5fj76kVAnqRKKhAw5d06jj,6HbxpoChDH9ThadFOSAnma,4tK4ARuilOrBzwVQK73E0Y,3VA8T3rNy5V24AXxNK5u9E,5SuOikwiRyPMVoIQDJUgSV,4PuUa8e5s7P3Zv1IdCGIsa,2HUZVffVPXvqnrml0gXggp,5UewWG58QFgJXV36lH6kY8,5JEM7lT9uSyhUsKFXwGfSm,3jB3vzH1WG6aiUiiLLGvly,3RPerpXuNznZbCuWYEBz5i:\n",
      " Max Retries, reason: too many 429 error responses\n",
      "Total tracks collected: 0\n"
     ]
    }
   ],
   "source": [
    "#Storing the Credentials\n",
    "client_id = 'XXX'\n",
    "client_secret = 'YYY'\n",
    "\n",
    "\n",
    "# Initializing Spotify client\n",
    "sp = spotipy.Spotify(client_credentials_manager=SpotifyClientCredentials(client_id=client_id, client_secret=client_secret))\n",
    "\n",
    "# Retrieving available genres for recommendations\n",
    "genres = (sp.recommendation_genre_seeds())['genres']\n",
    "\n",
    "#  creating a list of markets as we want only english tracks\n",
    "markets = ['US', 'GB','IN','AU','CA']\n",
    "\n",
    "# Defining a function to loop through the markets and genres\n",
    "def get_tracks_for_genre_and_market(genre, market):\n",
    "    track_data = []\n",
    "    # Search() :searches for tracks in a given genre and market, limited to 50 results at a time.\n",
    "    results = sp.search(q=f'genre:{genre}', limit=50, type='track', market=market) \n",
    "    \n",
    "    while results and len(track_data) < 30000:\n",
    "        track_ids = [item['id'] for item in results['tracks']['items']]  \n",
    "        if not track_ids:\n",
    "            break\n",
    "        \n",
    "        # Fetching the required audio features\n",
    "        audio_features = sp.audio_features(track_ids) \n",
    "        \n",
    "        for i, item in enumerate(results['tracks']['items']): # returns an iterator that produces pairs of an index and the corresponding item from the iterable.\n",
    "            track = item\n",
    "            features = audio_features[i] if audio_features[i] else {}\n",
    "            track_info = {\n",
    "                'Name': track['name'],\n",
    "                'Artist': track['artists'][0]['name'],\n",
    "                'Genre': genre, # The genre of the track.\n",
    "                'Popularity': track['popularity'], # Popularity of the track.\n",
    "                'Acousticness': features.get('acousticness', None), # Likelihood of the track being acoustic.\n",
    "                'Danceability': features.get('danceability', None), # Suitability for dancing.\n",
    "                'Energy': features.get('energy', None), # Intensity and activity of the track.\n",
    "                'Instrumentalness': features.get('instrumentalness', None), # Likelihood of the track being instrumental.\n",
    "                'Liveness': features.get('liveness', None), # Presence of audience in the recording.\n",
    "                'Loudness': features.get('loudness', None), # Overall loudness of the track.\n",
    "                'Speechiness': features.get('speechiness', None), # Presence of spoken words.\n",
    "                'Tempo': features.get('tempo', None), # Tempo of the track in beats per minute (BPM).\n",
    "                'Valence': features.get('valence', None), # Musical positiveness conveyed.\n",
    "                'Mode':features.get('mode', None), # Represents the musical mode (Major or Minor). It will be 1 for Major and 0 for Minor.\n",
    "                'Key':features.get('key', None) ,  # Represents the musical key. It is an integer from 0 to 11 corresponding to musical notes (C = 0, C♯/D♭ = 1, etc.).\n",
    "                'Duration_ms': track['duration_ms'], # Duration of the track in milliseconds.\n",
    "                'release_date': track['album']['release_date']\n",
    "            }\n",
    "            track_data.append(track_info)\n",
    "        \n",
    "            if len(track_data) >= 30000:\n",
    "                break\n",
    "        \n",
    "        results = sp.next(results) if results.get('next') else None # Fetches the next set of results if available, otherwise, stops. \n",
    "    \n",
    "    return track_data\n",
    "    \n",
    "#Creating an empty list to store the tracks\n",
    "all_tracks = []\n",
    "try:\n",
    "    for genre in genres:\n",
    "        for market in markets:\n",
    "            track_data = get_tracks_for_genre_and_market(genre, market)\n",
    "            all_tracks.extend(track_data)\n",
    "            print(f\"Tracks collected: {len(all_tracks)} from market {market}\") # Printing the tracks collection \n",
    "            \n",
    "            if len(all_tracks) >= 30000:\n",
    "                all_tracks = all_tracks[:30000]\n",
    "                break\n",
    "except (ReadTimeout, SpotifyException) as e:\n",
    "    print(f\"Error occurred: {e}\")\n",
    "    time.sleep(5)       # Pause before retrying to avoid rate limit issues\n",
    "\n",
    "print(f\"Total tracks collected: {len(all_tracks)}\")"
   ]
  },
  {
   "cell_type": "code",
   "execution_count": null,
   "id": "931d6427-45fe-48b2-b861-0cf60c7ad83c",
   "metadata": {},
   "outputs": [],
   "source": []
  },
  {
   "cell_type": "code",
   "execution_count": null,
   "id": "c359457b-1624-4968-a9ab-1ffb4c757742",
   "metadata": {},
   "outputs": [],
   "source": [
    "# Converting the data to a Dataframe\n",
    "df=pd.DataFrame(all_tracks)\n",
    "\n",
    "# saving the complete dataset\n",
    "df.to_excel('tracks.xlsx',index=False)\n"
   ]
  },
  {
   "cell_type": "markdown",
   "id": "0655a804-d115-4fc8-a92c-ded4cde61f00",
   "metadata": {},
   "source": [
    "#### Verifying and storing only english language tracks using language detect library:"
   ]
  },
  {
   "cell_type": "code",
   "execution_count": 3,
   "id": "5fb6b470-affb-44c0-9fb1-41ee32966bf0",
   "metadata": {},
   "outputs": [
    {
     "ename": "FileNotFoundError",
     "evalue": "[Errno 2] No such file or directory: 'tracks.xlsx'",
     "output_type": "error",
     "traceback": [
      "\u001b[0;31m---------------------------------------------------------------------------\u001b[0m",
      "\u001b[0;31mFileNotFoundError\u001b[0m                         Traceback (most recent call last)",
      "Cell \u001b[0;32mIn[3], line 1\u001b[0m\n\u001b[0;32m----> 1\u001b[0m df\u001b[38;5;241m=\u001b[39m \u001b[43mpd\u001b[49m\u001b[38;5;241;43m.\u001b[39;49m\u001b[43mread_excel\u001b[49m\u001b[43m(\u001b[49m\u001b[38;5;124;43mr\u001b[39;49m\u001b[38;5;124;43m'\u001b[39;49m\u001b[38;5;124;43mtracks.xlsx\u001b[39;49m\u001b[38;5;124;43m'\u001b[39;49m\u001b[43m)\u001b[49m\n\u001b[1;32m      4\u001b[0m \u001b[38;5;66;03m# Ensure consistent results\u001b[39;00m\n\u001b[1;32m      5\u001b[0m DetectorFactory\u001b[38;5;241m.\u001b[39mseed \u001b[38;5;241m=\u001b[39m \u001b[38;5;241m0\u001b[39m\n",
      "File \u001b[0;32m~/.local/lib/python3.12/site-packages/pandas/io/excel/_base.py:495\u001b[0m, in \u001b[0;36mread_excel\u001b[0;34m(io, sheet_name, header, names, index_col, usecols, dtype, engine, converters, true_values, false_values, skiprows, nrows, na_values, keep_default_na, na_filter, verbose, parse_dates, date_parser, date_format, thousands, decimal, comment, skipfooter, storage_options, dtype_backend, engine_kwargs)\u001b[0m\n\u001b[1;32m    493\u001b[0m \u001b[38;5;28;01mif\u001b[39;00m \u001b[38;5;129;01mnot\u001b[39;00m \u001b[38;5;28misinstance\u001b[39m(io, ExcelFile):\n\u001b[1;32m    494\u001b[0m     should_close \u001b[38;5;241m=\u001b[39m \u001b[38;5;28;01mTrue\u001b[39;00m\n\u001b[0;32m--> 495\u001b[0m     io \u001b[38;5;241m=\u001b[39m \u001b[43mExcelFile\u001b[49m\u001b[43m(\u001b[49m\n\u001b[1;32m    496\u001b[0m \u001b[43m        \u001b[49m\u001b[43mio\u001b[49m\u001b[43m,\u001b[49m\n\u001b[1;32m    497\u001b[0m \u001b[43m        \u001b[49m\u001b[43mstorage_options\u001b[49m\u001b[38;5;241;43m=\u001b[39;49m\u001b[43mstorage_options\u001b[49m\u001b[43m,\u001b[49m\n\u001b[1;32m    498\u001b[0m \u001b[43m        \u001b[49m\u001b[43mengine\u001b[49m\u001b[38;5;241;43m=\u001b[39;49m\u001b[43mengine\u001b[49m\u001b[43m,\u001b[49m\n\u001b[1;32m    499\u001b[0m \u001b[43m        \u001b[49m\u001b[43mengine_kwargs\u001b[49m\u001b[38;5;241;43m=\u001b[39;49m\u001b[43mengine_kwargs\u001b[49m\u001b[43m,\u001b[49m\n\u001b[1;32m    500\u001b[0m \u001b[43m    \u001b[49m\u001b[43m)\u001b[49m\n\u001b[1;32m    501\u001b[0m \u001b[38;5;28;01melif\u001b[39;00m engine \u001b[38;5;129;01mand\u001b[39;00m engine \u001b[38;5;241m!=\u001b[39m io\u001b[38;5;241m.\u001b[39mengine:\n\u001b[1;32m    502\u001b[0m     \u001b[38;5;28;01mraise\u001b[39;00m \u001b[38;5;167;01mValueError\u001b[39;00m(\n\u001b[1;32m    503\u001b[0m         \u001b[38;5;124m\"\u001b[39m\u001b[38;5;124mEngine should not be specified when passing \u001b[39m\u001b[38;5;124m\"\u001b[39m\n\u001b[1;32m    504\u001b[0m         \u001b[38;5;124m\"\u001b[39m\u001b[38;5;124man ExcelFile - ExcelFile already has the engine set\u001b[39m\u001b[38;5;124m\"\u001b[39m\n\u001b[1;32m    505\u001b[0m     )\n",
      "File \u001b[0;32m~/.local/lib/python3.12/site-packages/pandas/io/excel/_base.py:1550\u001b[0m, in \u001b[0;36mExcelFile.__init__\u001b[0;34m(self, path_or_buffer, engine, storage_options, engine_kwargs)\u001b[0m\n\u001b[1;32m   1548\u001b[0m     ext \u001b[38;5;241m=\u001b[39m \u001b[38;5;124m\"\u001b[39m\u001b[38;5;124mxls\u001b[39m\u001b[38;5;124m\"\u001b[39m\n\u001b[1;32m   1549\u001b[0m \u001b[38;5;28;01melse\u001b[39;00m:\n\u001b[0;32m-> 1550\u001b[0m     ext \u001b[38;5;241m=\u001b[39m \u001b[43minspect_excel_format\u001b[49m\u001b[43m(\u001b[49m\n\u001b[1;32m   1551\u001b[0m \u001b[43m        \u001b[49m\u001b[43mcontent_or_path\u001b[49m\u001b[38;5;241;43m=\u001b[39;49m\u001b[43mpath_or_buffer\u001b[49m\u001b[43m,\u001b[49m\u001b[43m \u001b[49m\u001b[43mstorage_options\u001b[49m\u001b[38;5;241;43m=\u001b[39;49m\u001b[43mstorage_options\u001b[49m\n\u001b[1;32m   1552\u001b[0m \u001b[43m    \u001b[49m\u001b[43m)\u001b[49m\n\u001b[1;32m   1553\u001b[0m     \u001b[38;5;28;01mif\u001b[39;00m ext \u001b[38;5;129;01mis\u001b[39;00m \u001b[38;5;28;01mNone\u001b[39;00m:\n\u001b[1;32m   1554\u001b[0m         \u001b[38;5;28;01mraise\u001b[39;00m \u001b[38;5;167;01mValueError\u001b[39;00m(\n\u001b[1;32m   1555\u001b[0m             \u001b[38;5;124m\"\u001b[39m\u001b[38;5;124mExcel file format cannot be determined, you must specify \u001b[39m\u001b[38;5;124m\"\u001b[39m\n\u001b[1;32m   1556\u001b[0m             \u001b[38;5;124m\"\u001b[39m\u001b[38;5;124man engine manually.\u001b[39m\u001b[38;5;124m\"\u001b[39m\n\u001b[1;32m   1557\u001b[0m         )\n",
      "File \u001b[0;32m~/.local/lib/python3.12/site-packages/pandas/io/excel/_base.py:1402\u001b[0m, in \u001b[0;36minspect_excel_format\u001b[0;34m(content_or_path, storage_options)\u001b[0m\n\u001b[1;32m   1399\u001b[0m \u001b[38;5;28;01mif\u001b[39;00m \u001b[38;5;28misinstance\u001b[39m(content_or_path, \u001b[38;5;28mbytes\u001b[39m):\n\u001b[1;32m   1400\u001b[0m     content_or_path \u001b[38;5;241m=\u001b[39m BytesIO(content_or_path)\n\u001b[0;32m-> 1402\u001b[0m \u001b[38;5;28;01mwith\u001b[39;00m \u001b[43mget_handle\u001b[49m\u001b[43m(\u001b[49m\n\u001b[1;32m   1403\u001b[0m \u001b[43m    \u001b[49m\u001b[43mcontent_or_path\u001b[49m\u001b[43m,\u001b[49m\u001b[43m \u001b[49m\u001b[38;5;124;43m\"\u001b[39;49m\u001b[38;5;124;43mrb\u001b[39;49m\u001b[38;5;124;43m\"\u001b[39;49m\u001b[43m,\u001b[49m\u001b[43m \u001b[49m\u001b[43mstorage_options\u001b[49m\u001b[38;5;241;43m=\u001b[39;49m\u001b[43mstorage_options\u001b[49m\u001b[43m,\u001b[49m\u001b[43m \u001b[49m\u001b[43mis_text\u001b[49m\u001b[38;5;241;43m=\u001b[39;49m\u001b[38;5;28;43;01mFalse\u001b[39;49;00m\n\u001b[1;32m   1404\u001b[0m \u001b[43m\u001b[49m\u001b[43m)\u001b[49m \u001b[38;5;28;01mas\u001b[39;00m handle:\n\u001b[1;32m   1405\u001b[0m     stream \u001b[38;5;241m=\u001b[39m handle\u001b[38;5;241m.\u001b[39mhandle\n\u001b[1;32m   1406\u001b[0m     stream\u001b[38;5;241m.\u001b[39mseek(\u001b[38;5;241m0\u001b[39m)\n",
      "File \u001b[0;32m~/.local/lib/python3.12/site-packages/pandas/io/common.py:882\u001b[0m, in \u001b[0;36mget_handle\u001b[0;34m(path_or_buf, mode, encoding, compression, memory_map, is_text, errors, storage_options)\u001b[0m\n\u001b[1;32m    873\u001b[0m         handle \u001b[38;5;241m=\u001b[39m \u001b[38;5;28mopen\u001b[39m(\n\u001b[1;32m    874\u001b[0m             handle,\n\u001b[1;32m    875\u001b[0m             ioargs\u001b[38;5;241m.\u001b[39mmode,\n\u001b[0;32m   (...)\u001b[0m\n\u001b[1;32m    878\u001b[0m             newline\u001b[38;5;241m=\u001b[39m\u001b[38;5;124m\"\u001b[39m\u001b[38;5;124m\"\u001b[39m,\n\u001b[1;32m    879\u001b[0m         )\n\u001b[1;32m    880\u001b[0m     \u001b[38;5;28;01melse\u001b[39;00m:\n\u001b[1;32m    881\u001b[0m         \u001b[38;5;66;03m# Binary mode\u001b[39;00m\n\u001b[0;32m--> 882\u001b[0m         handle \u001b[38;5;241m=\u001b[39m \u001b[38;5;28;43mopen\u001b[39;49m\u001b[43m(\u001b[49m\u001b[43mhandle\u001b[49m\u001b[43m,\u001b[49m\u001b[43m \u001b[49m\u001b[43mioargs\u001b[49m\u001b[38;5;241;43m.\u001b[39;49m\u001b[43mmode\u001b[49m\u001b[43m)\u001b[49m\n\u001b[1;32m    883\u001b[0m     handles\u001b[38;5;241m.\u001b[39mappend(handle)\n\u001b[1;32m    885\u001b[0m \u001b[38;5;66;03m# Convert BytesIO or file objects passed with an encoding\u001b[39;00m\n",
      "\u001b[0;31mFileNotFoundError\u001b[0m: [Errno 2] No such file or directory: 'tracks.xlsx'"
     ]
    }
   ],
   "source": [
    "df= pd.read_excel(r'tracks.xlsx')\n",
    "\n",
    "\n",
    "# Ensure consistent results\n",
    "DetectorFactory.seed = 0\n",
    "\n",
    "\n",
    "def is_english(text):\n",
    "    try:\n",
    "        return detect(text) == 'en'\n",
    "    except:\n",
    "        return False\n",
    "\n",
    "# Apply the language detection function\n",
    "df['is_english'] = df['Name'].apply(is_english)  \n",
    "\n",
    "# Filter out only English tracks\n",
    "english_tracks = df[df['is_english']]\n",
    "\n",
    "\n",
    "english_tracks.reset_index(inplace=True)\n",
    "english_tracks.info()"
   ]
  },
  {
   "cell_type": "markdown",
   "id": "16ba1d62-91e3-4da0-ba79-9b620978344e",
   "metadata": {},
   "source": [
    "#### Saving the final dataset:"
   ]
  },
  {
   "cell_type": "code",
   "execution_count": null,
   "id": "5b0ed0e3-cbca-4029-bd28-431a1416bcec",
   "metadata": {},
   "outputs": [],
   "source": [
    "# Save the filtered dataset\n",
    "english_tracks.to_excel('Hollywood_tracks.xlsx', index=False)"
   ]
  },
  {
   "cell_type": "code",
   "execution_count": null,
   "id": "75f3b7a2-5589-4ee7-bce8-7566ec3725c2",
   "metadata": {},
   "outputs": [],
   "source": []
  },
  {
   "cell_type": "code",
   "execution_count": null,
   "id": "345579df-6bfb-4d70-9124-05ac4393a6a3",
   "metadata": {},
   "outputs": [],
   "source": []
  },
  {
   "cell_type": "code",
   "execution_count": null,
   "id": "ead185e0-f66b-4197-98a4-11d922aa43bd",
   "metadata": {},
   "outputs": [],
   "source": []
  }
 ],
 "metadata": {
  "kernelspec": {
   "display_name": "Python 3 (ipykernel)",
   "language": "python",
   "name": "python3"
  },
  "language_info": {
   "codemirror_mode": {
    "name": "ipython",
    "version": 3
   },
   "file_extension": ".py",
   "mimetype": "text/x-python",
   "name": "python",
   "nbconvert_exporter": "python",
   "pygments_lexer": "ipython3",
   "version": "3.12.1"
  }
 },
 "nbformat": 4,
 "nbformat_minor": 5
}
